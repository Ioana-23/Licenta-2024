{
  "cells": [
    {
      "cell_type": "code",
      "source": [
        "!pip3 install wandb -qU\n",
        "!pip3 install pydicom -qU"
      ],
      "metadata": {
        "id": "1hFLUv0N37zr"
      },
      "execution_count": 1,
      "outputs": []
    },
    {
      "cell_type": "code",
      "execution_count": 2,
      "metadata": {
        "ExecuteTime": {
          "end_time": "2024-03-23T12:35:00.699270500Z",
          "start_time": "2024-03-23T12:34:55.429358300Z"
        },
        "id": "3CSDnsASh0hi"
      },
      "outputs": [],
      "source": [
        "import os\n",
        "import matplotlib.pyplot as plt\n",
        "import numpy as np\n",
        "import pandas as pd\n",
        "import torch.utils.data\n",
        "import seaborn as sns\n",
        "import wandb\n",
        "from tqdm import tqdm\n",
        "from torchvision.transforms import v2\n",
        "import torch.nn as nn\n",
        "from dataclasses import dataclass\n",
        "import shutil\n"
      ]
    },
    {
      "cell_type": "code",
      "source": [
        "from psutil import virtual_memory\n",
        "ram_gb = virtual_memory().total / 1e9\n",
        "print('Your runtime has {:.1f} gigabytes of available RAM\\n'.format(ram_gb))\n",
        "\n",
        "if ram_gb < 20:\n",
        "  print('Not using a high-RAM runtime')\n",
        "else:\n",
        "  print('You are using a high-RAM runtime!')"
      ],
      "metadata": {
        "id": "vRmgk7RXzMFh",
        "colab": {
          "base_uri": "https://localhost:8080/"
        },
        "outputId": "1c05a971-7f85-49c4-ffcc-6e86e3003524"
      },
      "execution_count": 3,
      "outputs": [
        {
          "output_type": "stream",
          "name": "stdout",
          "text": [
            "Your runtime has 54.8 gigabytes of available RAM\n",
            "\n",
            "You are using a high-RAM runtime!\n"
          ]
        }
      ]
    },
    {
      "cell_type": "code",
      "source": [
        "from google.colab import drive\n",
        "drive.mount('/content/drive')"
      ],
      "metadata": {
        "colab": {
          "base_uri": "https://localhost:8080/"
        },
        "id": "aex2tD9ciQHa",
        "outputId": "7e6bdc99-b0a2-4517-f143-a35c92165f31"
      },
      "execution_count": 4,
      "outputs": [
        {
          "output_type": "stream",
          "name": "stdout",
          "text": [
            "Drive already mounted at /content/drive; to attempt to forcibly remount, call drive.mount(\"/content/drive\", force_remount=True).\n"
          ]
        }
      ]
    },
    {
      "cell_type": "code",
      "source": [
        "print(torch.version.cuda)"
      ],
      "metadata": {
        "colab": {
          "base_uri": "https://localhost:8080/"
        },
        "id": "S5Y779HCpcQU",
        "outputId": "40ecd458-636c-41b9-eca9-08b36073c144"
      },
      "execution_count": 5,
      "outputs": [
        {
          "output_type": "stream",
          "name": "stdout",
          "text": [
            "12.1\n"
          ]
        }
      ]
    },
    {
      "cell_type": "code",
      "execution_count": 6,
      "metadata": {
        "jupyter": {
          "outputs_hidden": false
        },
        "ExecuteTime": {
          "end_time": "2024-03-23T12:35:00.714274100Z",
          "start_time": "2024-03-23T12:35:00.704273100Z"
        },
        "colab": {
          "base_uri": "https://localhost:8080/"
        },
        "id": "21OIpUfuh0hk",
        "outputId": "6369e022-31ac-471d-9f3e-931f037ca124"
      },
      "outputs": [
        {
          "output_type": "stream",
          "name": "stdout",
          "text": [
            "cpu\n"
          ]
        }
      ],
      "source": [
        "#device = torch.device('cuda' if torch.cuda.is_available() else 'cpu')\n",
        "#device = torch.device('cpu' if torch.cuda.is_available() else 'cuda')\n",
        "device = 'cpu'\n",
        "print(device)\n",
        "torch.set_default_device(device)\n",
        "torch.multiprocessing.set_start_method('spawn', True)"
      ]
    },
    {
      "cell_type": "code",
      "execution_count": 7,
      "metadata": {
        "jupyter": {
          "outputs_hidden": false
        },
        "ExecuteTime": {
          "end_time": "2024-03-23T12:35:01.330781Z",
          "start_time": "2024-03-23T12:35:00.716275800Z"
        },
        "id": "PB2gVcYHh0hk",
        "colab": {
          "base_uri": "https://localhost:8080/"
        },
        "outputId": "055b10d9-3caf-4cf2-987b-dc97d0a3bd8e"
      },
      "outputs": [
        {
          "output_type": "stream",
          "name": "stdout",
          "text": [
            "mkdir: cannot create directory ‘checkpoints’: File exists\n"
          ]
        }
      ],
      "source": [
        "!cp drive/MyDrive/Licenta/duke_dbt_data.py .\n",
        "!cp drive/MyDrive/Licenta/sort_split_data.py .\n",
        "!cp drive/MyDrive/Licenta/classification_dataset.py .\n",
        "!cp drive/MyDrive/Licenta/model_aux.py .\n",
        "!mkdir checkpoints\n",
        "from classification_dataset import ClassificationDataset\n",
        "#from \"/content/drive/MyDrive/Licenta/classification_dataset.py\" import MyDataset"
      ]
    },
    {
      "cell_type": "code",
      "execution_count": 8,
      "metadata": {
        "jupyter": {
          "outputs_hidden": false
        },
        "ExecuteTime": {
          "end_time": "2024-03-23T12:35:01.377798100Z",
          "start_time": "2024-03-23T12:35:01.349788Z"
        },
        "colab": {
          "base_uri": "https://localhost:8080/"
        },
        "id": "3_PCrkVJh0hl",
        "outputId": "893ec778-90df-45a6-ccf8-1007029598c3"
      },
      "outputs": [
        {
          "output_type": "stream",
          "name": "stderr",
          "text": [
            "\u001b[34m\u001b[1mwandb\u001b[0m: Currently logged in as: \u001b[33mioana-baciu4\u001b[0m. Use \u001b[1m`wandb login --relogin`\u001b[0m to force relogin\n",
            "\u001b[34m\u001b[1mwandb\u001b[0m: \u001b[33mWARNING\u001b[0m If you're specifying your api key in code, ensure this code is not shared publicly.\n",
            "\u001b[34m\u001b[1mwandb\u001b[0m: \u001b[33mWARNING\u001b[0m Consider setting the WANDB_API_KEY environment variable, or running `wandb login` from the command line.\n",
            "\u001b[34m\u001b[1mwandb\u001b[0m: Appending key for api.wandb.ai to your netrc file: /root/.netrc\n"
          ]
        },
        {
          "output_type": "execute_result",
          "data": {
            "text/plain": [
              "True"
            ]
          },
          "metadata": {},
          "execution_count": 8
        }
      ],
      "source": [
        "wandb.login(key = \"8a625877a46f5b9236fa4719743bf8c17928ead7\")"
      ]
    },
    {
      "cell_type": "code",
      "execution_count": 9,
      "metadata": {
        "jupyter": {
          "outputs_hidden": false
        },
        "ExecuteTime": {
          "end_time": "2024-03-23T12:35:01.441805Z",
          "start_time": "2024-03-23T12:35:01.362789100Z"
        },
        "id": "c70uIPx_h0hl"
      },
      "outputs": [],
      "source": [
        "bs = 128\n",
        "\n",
        "train_dataset = ClassificationDataset(base_folder=\"drive/MyDrive/Licenta/\", split_name=\"train\", number_of_slices=22, batch_size=bs)\n",
        "test_dataset = ClassificationDataset(base_folder=\"drive/MyDrive/Licenta/\", split_name=\"test\", number_of_slices=22, batch_size=1)\n",
        "\n",
        "\n",
        "train_data_loader = torch.utils.data.DataLoader(train_dataset, batch_size = bs, shuffle = False, num_workers = 0,\n",
        "                                              generator=torch.Generator(device=device))\n",
        "test_data_loader = torch.utils.data.DataLoader(test_dataset, batch_size=1, shuffle=True,\n",
        "                                             generator=torch.Generator(device=device))"
      ]
    },
    {
      "cell_type": "code",
      "source": [
        "# from collections import Counter\n",
        "# for i_batch, sample_batched in enumerate(train_data_loader):\n",
        "#     imgs = sample_batched[0]\n",
        "#     segs = sample_batched[1]\n",
        "\n",
        "#     rows, cols = 1, bs\n",
        "#     # figure = plt.figure(figsize=(10, 10))\n",
        "#     all_segs = []\n",
        "#     segs = segs.cpu().numpy()\n",
        "#     for seg in segs:\n",
        "#       all_segs.append(np.argmax(seg))\n",
        "#     print(Counter(all_segs))\n",
        "#     # for i in range(0, imgs.shape[0]):\n",
        "#     #     figure.add_subplot(rows, cols, i + 1)\n",
        "#     #     plt.axis(\"off\")\n",
        "#     #     plt.imshow(imgs[i].cpu().numpy()[0])\n",
        "#     #     print(segs[i])\n",
        "#     # plt.show()"
      ],
      "metadata": {
        "id": "WaKdJamlsDoI"
      },
      "execution_count": 10,
      "outputs": []
    },
    {
      "cell_type": "code",
      "source": [
        "main_dir = 'drive/MyDrive/Licenta/images/Breast-Cancer-Screening-DBT'\n",
        "small_dirs = os.listdir(main_dir)\n",
        "for small_dir in small_dirs:\n",
        "  dir1 = os.path.join(main_dir, small_dir)\n",
        "  smaller_dirs = os.listdir(dir1)\n",
        "  for smaller_dir in smaller_dirs:\n",
        "    dir2 = os.path.join(dir1, smaller_dir)\n",
        "    smallest_dirs = os.listdir(dir2)\n",
        "    for smallest_dir in smallest_dirs:\n",
        "        dir3 = os.path.join(dir2, smallest_dir)\n",
        "        smallester_dirs = os.listdir(dir3)\n",
        "        for file in smallester_dirs:\n",
        "          dir4 = os.path.join(dir3, file)\n",
        "          if '(' in file and 'txt' not in file:\n",
        "            print(dir4)\n",
        "            os.remove(dir4)\n",
        "          if dir4.count('(' ) > 1:\n",
        "            print(dir4)\n",
        "            os.remove(dir4)\n",
        "          if os.path.isdir(dir4):\n",
        "            print(dir4)\n",
        "            shutil.rmtree(dir4)"
      ],
      "metadata": {
        "id": "6M4gXyffxdYb"
      },
      "execution_count": 11,
      "outputs": []
    },
    {
      "cell_type": "code",
      "execution_count": 12,
      "metadata": {
        "jupyter": {
          "outputs_hidden": false
        },
        "ExecuteTime": {
          "end_time": "2024-03-23T12:35:01.458810100Z",
          "start_time": "2024-03-23T12:35:01.445806300Z"
        },
        "id": "NgEeJPX5h0hm"
      },
      "outputs": [],
      "source": [
        "@dataclass\n",
        "class InputParameters:\n",
        "    model: nn.Module\n",
        "    optimizer: torch.optim.Optimizer\n",
        "    scheduler: torch.optim.lr_scheduler.ExponentialLR\n",
        "def save_checkpoint(model_input, optimizer_input, scheduler_input, filename):\n",
        "    print(\"=> Saving checkpoint\")\n",
        "    input_parameters = InputParameters(model_input, optimizer_input, scheduler_input)\n",
        "    torch.save(input_parameters, filename)\n",
        "def load_checkpoint(filename):\n",
        "    print(\"=> Loading checkpoint\")\n",
        "    input_parameters = torch.load(filename)\n",
        "    return input_parameters.model, input_parameters.optimizer, input_parameters.scheduler"
      ]
    },
    {
      "cell_type": "code",
      "execution_count": 13,
      "metadata": {
        "jupyter": {
          "outputs_hidden": false
        },
        "ExecuteTime": {
          "end_time": "2024-03-23T12:35:01.479814300Z",
          "start_time": "2024-03-23T12:35:01.458810100Z"
        },
        "id": "ky-amSSfh0hm"
      },
      "outputs": [],
      "source": [
        "#CUDA_VISIBLE_DEVICES=0"
      ]
    },
    {
      "cell_type": "code",
      "execution_count": 14,
      "metadata": {
        "jupyter": {
          "outputs_hidden": false
        },
        "ExecuteTime": {
          "end_time": "2024-03-23T12:35:01.492819100Z",
          "start_time": "2024-03-23T12:35:01.476813900Z"
        },
        "colab": {
          "base_uri": "https://localhost:8080/"
        },
        "id": "gr-7iQuDh0hm",
        "outputId": "acba4462-05bd-420f-b278-530dade69fa1"
      },
      "outputs": [
        {
          "output_type": "stream",
          "name": "stdout",
          "text": [
            "Create sweep with ID: dwt0bkuf\n",
            "Sweep URL: https://wandb.ai/ioana-baciu4/licenta/sweeps/dwt0bkuf\n"
          ]
        }
      ],
      "source": [
        "sweep_config: dict = {\n",
        "    \"project\": \"licenta\",\n",
        "    \"metric\":\n",
        "        {\"name\": \"loss\",\"goal\": \"minimize\"}\n",
        "    ,\n",
        "    \"method\": \"grid\", # grid/random\n",
        "     \"parameters\":\n",
        "    #     {\n",
        "    #     \"learning_rate\": {\n",
        "    #         \"values\": [1e-4, 1e-5, 1e-6]\n",
        "    #         },\n",
        "    #     \"number_of_epochs\": {\n",
        "    #         \"values\": [8,9,10]\n",
        "    #         },\n",
        "    #     },\n",
        "    None\n",
        "}\n",
        "parameters: dict = {\n",
        "    \"learning_rate\": {\n",
        "        \"values\": [1e-3, 1e-4, 1e-5]\n",
        "    },\n",
        "    \"number_of_epochs\": {\n",
        "        \"values\": [50,75,100]\n",
        "    }\n",
        "}\n",
        "sweep_config[\"parameters\"] = parameters\n",
        "sweep_id = wandb.sweep(sweep_config)"
      ]
    },
    {
      "cell_type": "code",
      "execution_count": 15,
      "metadata": {
        "jupyter": {
          "outputs_hidden": false
        },
        "ExecuteTime": {
          "end_time": "2024-03-23T12:35:01.521824800Z",
          "start_time": "2024-03-23T12:35:01.491816400Z"
        },
        "id": "j0tGFhHth0ho"
      },
      "outputs": [],
      "source": [
        "def train_one_epoch(loader, model_input, optimizer_input, loss_function, scheduler_input, index):\n",
        "  for data, targets in tqdm(loader):\n",
        "    data, targets = data.to(device), targets.to(device)\n",
        "    optimizer_input.zero_grad()\n",
        "    predictions = model_input(data)\n",
        "    predictions = nn.Sigmoid()(predictions)\n",
        "    loss = loss_function(predictions, targets)\n",
        "\n",
        "    # print(f\"Loss: {loss}\")\n",
        "    # print(f\"Predicted: {predictions}\")\n",
        "    # print(f\"Real class: {targets}\")\n",
        "\n",
        "    loss.backward()\n",
        "    optimizer_input.step()\n",
        "\n",
        "    wandb.log({\"loss\": loss.item()})\n",
        "  scheduler_input.step()"
      ]
    },
    {
      "cell_type": "code",
      "execution_count": 16,
      "metadata": {
        "jupyter": {
          "outputs_hidden": false
        },
        "ExecuteTime": {
          "end_time": "2024-03-23T12:35:04.515503400Z",
          "start_time": "2024-03-23T12:35:01.516837700Z"
        },
        "id": "YuIldEOsh0hp"
      },
      "outputs": [],
      "source": [
        "from tensorflow import Tensor\n",
        "\n",
        "\n",
        "def get_accuracy(real_target: Tensor, predicted_target: Tensor):\n",
        "    # noinspection PyTypeChecker\n",
        "    correctly_predicted = torch.sum(real_target == predicted_target).item()\n",
        "    all_targets = real_target.numel()\n",
        "    return correctly_predicted / all_targets\n",
        "\n",
        "\n",
        "def get_precision(real_target: Tensor, predicted_target: Tensor):\n",
        "    # noinspection PyTypeChecker\n",
        "    all_positive_predicted = torch.sum(predicted_target == 1).item()\n",
        "    # noinspection PyTypeChecker\n",
        "    true_positive_targets = torch.sum(\n",
        "        (real_target == predicted_target) &\n",
        "        (real_target == 1)).item()\n",
        "    precision = true_positive_targets / max(all_positive_predicted, 1)\n",
        "    return precision\n",
        "\n",
        "\n",
        "def get_recall(real_target: Tensor, predicted_target: Tensor):\n",
        "    # noinspection PyTypeChecker\n",
        "    all_positive_targets = torch.sum(real_target == 1).item()\n",
        "    # noinspection PyTypeChecker\n",
        "    true_positive_targets = torch.sum(\n",
        "        (real_target == predicted_target) &\n",
        "        (real_target == 1)).item()\n",
        "    recall = true_positive_targets / max(all_positive_targets, 1)\n",
        "    return recall\n",
        "\n",
        "\n",
        "def get_confusion_matrix(real_target: Tensor, predicted_target: Tensor):\n",
        "    confusion_matrix = np.empty((2, 2), dtype=np.uint16)\n",
        "    cancer_predicted_values, normal_predicted_values = get_predicted_classes_for_all_classes(predicted_target, real_target)\n",
        "    for i in range(0, 2):\n",
        "        set_confusion_matrix_values(cancer_predicted_values,\n",
        "                                    confusion_matrix, i, normal_predicted_values)\n",
        "    return confusion_matrix\n",
        "\n",
        "\n",
        "def set_confusion_matrix_values(cancer_predicted_values,\n",
        "                                confusion_matrix, i, normal_predicted_values):\n",
        "    # noinspection PyTypeChecker\n",
        "    confusion_matrix[0][i] = torch.sum(normal_predicted_values == i).item()\n",
        "    # noinspection PyTypeChecker\n",
        "    confusion_matrix[1][i] = torch.sum(cancer_predicted_values == i).item()\n",
        "\n",
        "\n",
        "def get_predicted_classes_for_all_classes(predicted_target, real_target):\n",
        "    normal_predicted_values = get_predicted_class_for_normal_class(predicted_target, real_target)\n",
        "    cancer_predicted_values = get_predicted_class_for_cancer_class(predicted_target, real_target)\n",
        "    return cancer_predicted_values, normal_predicted_values\n",
        "\n",
        "\n",
        "def get_predicted_class_for_cancer_class(predicted_target, real_target):\n",
        "    cancer_real_indexes = (real_target == 1).nonzero()\n",
        "    cancer_predicted_values = predicted_target[cancer_real_indexes]\n",
        "    return cancer_predicted_values\n",
        "\n",
        "def get_predicted_class_for_normal_class(predicted_target, real_target):\n",
        "    normal_real_indexes = (real_target == 0).nonzero()\n",
        "    normal_predicted_values = predicted_target[normal_real_indexes]\n",
        "    return normal_predicted_values\n",
        "\n",
        "def check_metrics(loader, model_aux, index):\n",
        "\n",
        "    with torch.no_grad():\n",
        "        all_predicted_classes = torch.tensor([]).to(device)\n",
        "        all_real_classes = torch.tensor([]).to(device)\n",
        "        for data, targets in tqdm(loader):\n",
        "            data, real_class = data.to(device), targets.to(device).argmax(dim=1)\n",
        "            predicted_class = model_aux(data).to(device)\n",
        "            predicted_class = nn.Sigmoid()(predicted_class).argmax(dim=1)\n",
        "\n",
        "            all_predicted_classes = torch.cat((all_predicted_classes, predicted_class))\n",
        "            all_real_classes = torch.cat((all_real_classes, real_class))\n",
        "\n",
        "        accuracy = get_accuracy(all_real_classes, all_predicted_classes)\n",
        "        precision = get_precision(all_real_classes, all_predicted_classes)\n",
        "        recall = get_recall(all_real_classes, all_predicted_classes)\n",
        "        confusion_matrix = get_confusion_matrix(all_real_classes, all_predicted_classes)\n",
        "    return accuracy, precision, recall, confusion_matrix"
      ]
    },
    {
      "cell_type": "code",
      "execution_count": 17,
      "metadata": {
        "jupyter": {
          "outputs_hidden": false
        },
        "ExecuteTime": {
          "end_time": "2024-03-23T12:35:04.529874400Z",
          "start_time": "2024-03-23T12:35:04.519504400Z"
        },
        "id": "50QMkWMQh0hp"
      },
      "outputs": [],
      "source": [
        "run_id = 0\n",
        "index = 1\n",
        "def train_with_metrics():\n",
        "    run = wandb.init(config=sweep_config)\n",
        "    run_id = run.id\n",
        "    print(run_id)\n",
        "    loss_function = nn.CrossEntropyLoss()\n",
        "    #learning_rate = wandb.config.learning_rate\n",
        "    #number_of_epochs = wandb.config.number_of_epochs\n",
        "    number_of_epochs = 5\n",
        "    for epoch in range(number_of_epochs):\n",
        "        model_pret.train()\n",
        "        print(f\"=> Training epoch: {epoch+1}\")\n",
        "        train_one_epoch(train_data_loader, model_pret, optimizer, loss_function, scheduler, index)\n",
        "        print(\"=> Finished training...\")\n",
        "        model_pret.eval()\n",
        "        print(\"=> Calculating metrics...\")\n",
        "        accuracy, precision, recall, confusion_matrix = check_metrics(test_data_loader, model_pret, index)\n",
        "        wandb.log({\"accuracy\": accuracy, \"precision\": precision})\n",
        "        print(f\"Accuracy: {accuracy}\")\n",
        "        print(f\"Precision: {precision}\")\n",
        "        print(f\"Recall: {recall}\")\n",
        "        save_checkpoint(model_pret, optimizer, scheduler, f\"./checkpoints/acc_{epoch}_aux{index}.pth\")\n",
        "        plt.figure(figsize=(7, 5))\n",
        "        sns.heatmap(confusion_matrix, annot=True, cmap='Blues', fmt='g',\n",
        "                xticklabels=['normal', 'cancer'],\n",
        "                yticklabels=['normal', 'cancer'])\n",
        "        plt.xlabel('Predicted labels')\n",
        "        plt.ylabel('True labels')\n",
        "        plt.title('Confusion Matrix')\n",
        "        plt.show()\n",
        "    run.finish()"
      ]
    },
    {
      "cell_type": "code",
      "execution_count": 18,
      "metadata": {
        "jupyter": {
          "outputs_hidden": false
        },
        "ExecuteTime": {
          "end_time": "2024-03-23T12:42:48.536287200Z",
          "start_time": "2024-03-23T12:35:04.530874100Z"
        },
        "id": "QSPnxbfkh0hp",
        "colab": {
          "base_uri": "https://localhost:8080/"
        },
        "outputId": "03482ab7-8f13-4e5b-8c6e-da7d6fe9006f"
      },
      "outputs": [
        {
          "output_type": "stream",
          "name": "stderr",
          "text": [
            "Using cache found in /root/.cache/torch/hub/pytorch_vision_v0.10.0\n"
          ]
        }
      ],
      "source": [
        "from model_aux import GoogLeNet\n",
        "from torchvision.models import GoogLeNet_Weights\n",
        "\n",
        "# model = GoogLeNet().to(device)\n",
        "model_pret = torch.hub.load('pytorch/vision:v0.10.0', 'googlenet', weights=GoogLeNet_Weights.IMAGENET1K_V1)\n",
        "model_pret.fc = nn.Linear(in_features=1024, out_features=2)\n",
        "#def get_batch_sizes():\n",
        "    #run = wandb.init(config=sweep_config)\n",
        "#bs = wandb.config.batch_sizes\n",
        "\n",
        "#wandb.agent(sweep_id, function=train_with_metrics, count=5)\n",
        "    #run.finish()\n",
        "learning_rate = 0.0001\n",
        "optimizer = torch.optim.Adam(model_pret.parameters(), lr=learning_rate)\n",
        "scheduler = torch.optim.lr_scheduler.StepLR(optimizer, step_size=5, gamma=0.1)\n",
        "# train_with_metrics(model, optimizer_to_train=optimizer, scheduler_to_train=scheduler)"
      ]
    },
    {
      "cell_type": "code",
      "source": [
        "from torchsummary import summary\n",
        "summary(model_pret, (3, 300, 300))"
      ],
      "metadata": {
        "colab": {
          "base_uri": "https://localhost:8080/"
        },
        "id": "glIFZAPF4pYU",
        "outputId": "8d1b0d4f-dcd3-471a-80f9-f73a6e9d1ff7"
      },
      "execution_count": 19,
      "outputs": [
        {
          "output_type": "stream",
          "name": "stdout",
          "text": [
            "----------------------------------------------------------------\n",
            "        Layer (type)               Output Shape         Param #\n",
            "================================================================\n",
            "            Conv2d-1         [-1, 64, 150, 150]           9,408\n",
            "       BatchNorm2d-2         [-1, 64, 150, 150]             128\n",
            "       BasicConv2d-3         [-1, 64, 150, 150]               0\n",
            "         MaxPool2d-4           [-1, 64, 75, 75]               0\n",
            "            Conv2d-5           [-1, 64, 75, 75]           4,096\n",
            "       BatchNorm2d-6           [-1, 64, 75, 75]             128\n",
            "       BasicConv2d-7           [-1, 64, 75, 75]               0\n",
            "            Conv2d-8          [-1, 192, 75, 75]         110,592\n",
            "       BatchNorm2d-9          [-1, 192, 75, 75]             384\n",
            "      BasicConv2d-10          [-1, 192, 75, 75]               0\n",
            "        MaxPool2d-11          [-1, 192, 37, 37]               0\n",
            "           Conv2d-12           [-1, 64, 37, 37]          12,288\n",
            "      BatchNorm2d-13           [-1, 64, 37, 37]             128\n",
            "      BasicConv2d-14           [-1, 64, 37, 37]               0\n",
            "           Conv2d-15           [-1, 96, 37, 37]          18,432\n",
            "      BatchNorm2d-16           [-1, 96, 37, 37]             192\n",
            "      BasicConv2d-17           [-1, 96, 37, 37]               0\n",
            "           Conv2d-18          [-1, 128, 37, 37]         110,592\n",
            "      BatchNorm2d-19          [-1, 128, 37, 37]             256\n",
            "      BasicConv2d-20          [-1, 128, 37, 37]               0\n",
            "           Conv2d-21           [-1, 16, 37, 37]           3,072\n",
            "      BatchNorm2d-22           [-1, 16, 37, 37]              32\n",
            "      BasicConv2d-23           [-1, 16, 37, 37]               0\n",
            "           Conv2d-24           [-1, 32, 37, 37]           4,608\n",
            "      BatchNorm2d-25           [-1, 32, 37, 37]              64\n",
            "      BasicConv2d-26           [-1, 32, 37, 37]               0\n",
            "        MaxPool2d-27          [-1, 192, 37, 37]               0\n",
            "           Conv2d-28           [-1, 32, 37, 37]           6,144\n",
            "      BatchNorm2d-29           [-1, 32, 37, 37]              64\n",
            "      BasicConv2d-30           [-1, 32, 37, 37]               0\n",
            "        Inception-31          [-1, 256, 37, 37]               0\n",
            "           Conv2d-32          [-1, 128, 37, 37]          32,768\n",
            "      BatchNorm2d-33          [-1, 128, 37, 37]             256\n",
            "      BasicConv2d-34          [-1, 128, 37, 37]               0\n",
            "           Conv2d-35          [-1, 128, 37, 37]          32,768\n",
            "      BatchNorm2d-36          [-1, 128, 37, 37]             256\n",
            "      BasicConv2d-37          [-1, 128, 37, 37]               0\n",
            "           Conv2d-38          [-1, 192, 37, 37]         221,184\n",
            "      BatchNorm2d-39          [-1, 192, 37, 37]             384\n",
            "      BasicConv2d-40          [-1, 192, 37, 37]               0\n",
            "           Conv2d-41           [-1, 32, 37, 37]           8,192\n",
            "      BatchNorm2d-42           [-1, 32, 37, 37]              64\n",
            "      BasicConv2d-43           [-1, 32, 37, 37]               0\n",
            "           Conv2d-44           [-1, 96, 37, 37]          27,648\n",
            "      BatchNorm2d-45           [-1, 96, 37, 37]             192\n",
            "      BasicConv2d-46           [-1, 96, 37, 37]               0\n",
            "        MaxPool2d-47          [-1, 256, 37, 37]               0\n",
            "           Conv2d-48           [-1, 64, 37, 37]          16,384\n",
            "      BatchNorm2d-49           [-1, 64, 37, 37]             128\n",
            "      BasicConv2d-50           [-1, 64, 37, 37]               0\n",
            "        Inception-51          [-1, 480, 37, 37]               0\n",
            "        MaxPool2d-52          [-1, 480, 18, 18]               0\n",
            "           Conv2d-53          [-1, 192, 18, 18]          92,160\n",
            "      BatchNorm2d-54          [-1, 192, 18, 18]             384\n",
            "      BasicConv2d-55          [-1, 192, 18, 18]               0\n",
            "           Conv2d-56           [-1, 96, 18, 18]          46,080\n",
            "      BatchNorm2d-57           [-1, 96, 18, 18]             192\n",
            "      BasicConv2d-58           [-1, 96, 18, 18]               0\n",
            "           Conv2d-59          [-1, 208, 18, 18]         179,712\n",
            "      BatchNorm2d-60          [-1, 208, 18, 18]             416\n",
            "      BasicConv2d-61          [-1, 208, 18, 18]               0\n",
            "           Conv2d-62           [-1, 16, 18, 18]           7,680\n",
            "      BatchNorm2d-63           [-1, 16, 18, 18]              32\n",
            "      BasicConv2d-64           [-1, 16, 18, 18]               0\n",
            "           Conv2d-65           [-1, 48, 18, 18]           6,912\n",
            "      BatchNorm2d-66           [-1, 48, 18, 18]              96\n",
            "      BasicConv2d-67           [-1, 48, 18, 18]               0\n",
            "        MaxPool2d-68          [-1, 480, 18, 18]               0\n",
            "           Conv2d-69           [-1, 64, 18, 18]          30,720\n",
            "      BatchNorm2d-70           [-1, 64, 18, 18]             128\n",
            "      BasicConv2d-71           [-1, 64, 18, 18]               0\n",
            "        Inception-72          [-1, 512, 18, 18]               0\n",
            "           Conv2d-73          [-1, 160, 18, 18]          81,920\n",
            "      BatchNorm2d-74          [-1, 160, 18, 18]             320\n",
            "      BasicConv2d-75          [-1, 160, 18, 18]               0\n",
            "           Conv2d-76          [-1, 112, 18, 18]          57,344\n",
            "      BatchNorm2d-77          [-1, 112, 18, 18]             224\n",
            "      BasicConv2d-78          [-1, 112, 18, 18]               0\n",
            "           Conv2d-79          [-1, 224, 18, 18]         225,792\n",
            "      BatchNorm2d-80          [-1, 224, 18, 18]             448\n",
            "      BasicConv2d-81          [-1, 224, 18, 18]               0\n",
            "           Conv2d-82           [-1, 24, 18, 18]          12,288\n",
            "      BatchNorm2d-83           [-1, 24, 18, 18]              48\n",
            "      BasicConv2d-84           [-1, 24, 18, 18]               0\n",
            "           Conv2d-85           [-1, 64, 18, 18]          13,824\n",
            "      BatchNorm2d-86           [-1, 64, 18, 18]             128\n",
            "      BasicConv2d-87           [-1, 64, 18, 18]               0\n",
            "        MaxPool2d-88          [-1, 512, 18, 18]               0\n",
            "           Conv2d-89           [-1, 64, 18, 18]          32,768\n",
            "      BatchNorm2d-90           [-1, 64, 18, 18]             128\n",
            "      BasicConv2d-91           [-1, 64, 18, 18]               0\n",
            "        Inception-92          [-1, 512, 18, 18]               0\n",
            "           Conv2d-93          [-1, 128, 18, 18]          65,536\n",
            "      BatchNorm2d-94          [-1, 128, 18, 18]             256\n",
            "      BasicConv2d-95          [-1, 128, 18, 18]               0\n",
            "           Conv2d-96          [-1, 128, 18, 18]          65,536\n",
            "      BatchNorm2d-97          [-1, 128, 18, 18]             256\n",
            "      BasicConv2d-98          [-1, 128, 18, 18]               0\n",
            "           Conv2d-99          [-1, 256, 18, 18]         294,912\n",
            "     BatchNorm2d-100          [-1, 256, 18, 18]             512\n",
            "     BasicConv2d-101          [-1, 256, 18, 18]               0\n",
            "          Conv2d-102           [-1, 24, 18, 18]          12,288\n",
            "     BatchNorm2d-103           [-1, 24, 18, 18]              48\n",
            "     BasicConv2d-104           [-1, 24, 18, 18]               0\n",
            "          Conv2d-105           [-1, 64, 18, 18]          13,824\n",
            "     BatchNorm2d-106           [-1, 64, 18, 18]             128\n",
            "     BasicConv2d-107           [-1, 64, 18, 18]               0\n",
            "       MaxPool2d-108          [-1, 512, 18, 18]               0\n",
            "          Conv2d-109           [-1, 64, 18, 18]          32,768\n",
            "     BatchNorm2d-110           [-1, 64, 18, 18]             128\n",
            "     BasicConv2d-111           [-1, 64, 18, 18]               0\n",
            "       Inception-112          [-1, 512, 18, 18]               0\n",
            "          Conv2d-113          [-1, 112, 18, 18]          57,344\n",
            "     BatchNorm2d-114          [-1, 112, 18, 18]             224\n",
            "     BasicConv2d-115          [-1, 112, 18, 18]               0\n",
            "          Conv2d-116          [-1, 144, 18, 18]          73,728\n",
            "     BatchNorm2d-117          [-1, 144, 18, 18]             288\n",
            "     BasicConv2d-118          [-1, 144, 18, 18]               0\n",
            "          Conv2d-119          [-1, 288, 18, 18]         373,248\n",
            "     BatchNorm2d-120          [-1, 288, 18, 18]             576\n",
            "     BasicConv2d-121          [-1, 288, 18, 18]               0\n",
            "          Conv2d-122           [-1, 32, 18, 18]          16,384\n",
            "     BatchNorm2d-123           [-1, 32, 18, 18]              64\n",
            "     BasicConv2d-124           [-1, 32, 18, 18]               0\n",
            "          Conv2d-125           [-1, 64, 18, 18]          18,432\n",
            "     BatchNorm2d-126           [-1, 64, 18, 18]             128\n",
            "     BasicConv2d-127           [-1, 64, 18, 18]               0\n",
            "       MaxPool2d-128          [-1, 512, 18, 18]               0\n",
            "          Conv2d-129           [-1, 64, 18, 18]          32,768\n",
            "     BatchNorm2d-130           [-1, 64, 18, 18]             128\n",
            "     BasicConv2d-131           [-1, 64, 18, 18]               0\n",
            "       Inception-132          [-1, 528, 18, 18]               0\n",
            "          Conv2d-133          [-1, 256, 18, 18]         135,168\n",
            "     BatchNorm2d-134          [-1, 256, 18, 18]             512\n",
            "     BasicConv2d-135          [-1, 256, 18, 18]               0\n",
            "          Conv2d-136          [-1, 160, 18, 18]          84,480\n",
            "     BatchNorm2d-137          [-1, 160, 18, 18]             320\n",
            "     BasicConv2d-138          [-1, 160, 18, 18]               0\n",
            "          Conv2d-139          [-1, 320, 18, 18]         460,800\n",
            "     BatchNorm2d-140          [-1, 320, 18, 18]             640\n",
            "     BasicConv2d-141          [-1, 320, 18, 18]               0\n",
            "          Conv2d-142           [-1, 32, 18, 18]          16,896\n",
            "     BatchNorm2d-143           [-1, 32, 18, 18]              64\n",
            "     BasicConv2d-144           [-1, 32, 18, 18]               0\n",
            "          Conv2d-145          [-1, 128, 18, 18]          36,864\n",
            "     BatchNorm2d-146          [-1, 128, 18, 18]             256\n",
            "     BasicConv2d-147          [-1, 128, 18, 18]               0\n",
            "       MaxPool2d-148          [-1, 528, 18, 18]               0\n",
            "          Conv2d-149          [-1, 128, 18, 18]          67,584\n",
            "     BatchNorm2d-150          [-1, 128, 18, 18]             256\n",
            "     BasicConv2d-151          [-1, 128, 18, 18]               0\n",
            "       Inception-152          [-1, 832, 18, 18]               0\n",
            "       MaxPool2d-153            [-1, 832, 9, 9]               0\n",
            "          Conv2d-154            [-1, 256, 9, 9]         212,992\n",
            "     BatchNorm2d-155            [-1, 256, 9, 9]             512\n",
            "     BasicConv2d-156            [-1, 256, 9, 9]               0\n",
            "          Conv2d-157            [-1, 160, 9, 9]         133,120\n",
            "     BatchNorm2d-158            [-1, 160, 9, 9]             320\n",
            "     BasicConv2d-159            [-1, 160, 9, 9]               0\n",
            "          Conv2d-160            [-1, 320, 9, 9]         460,800\n",
            "     BatchNorm2d-161            [-1, 320, 9, 9]             640\n",
            "     BasicConv2d-162            [-1, 320, 9, 9]               0\n",
            "          Conv2d-163             [-1, 32, 9, 9]          26,624\n",
            "     BatchNorm2d-164             [-1, 32, 9, 9]              64\n",
            "     BasicConv2d-165             [-1, 32, 9, 9]               0\n",
            "          Conv2d-166            [-1, 128, 9, 9]          36,864\n",
            "     BatchNorm2d-167            [-1, 128, 9, 9]             256\n",
            "     BasicConv2d-168            [-1, 128, 9, 9]               0\n",
            "       MaxPool2d-169            [-1, 832, 9, 9]               0\n",
            "          Conv2d-170            [-1, 128, 9, 9]         106,496\n",
            "     BatchNorm2d-171            [-1, 128, 9, 9]             256\n",
            "     BasicConv2d-172            [-1, 128, 9, 9]               0\n",
            "       Inception-173            [-1, 832, 9, 9]               0\n",
            "          Conv2d-174            [-1, 384, 9, 9]         319,488\n",
            "     BatchNorm2d-175            [-1, 384, 9, 9]             768\n",
            "     BasicConv2d-176            [-1, 384, 9, 9]               0\n",
            "          Conv2d-177            [-1, 192, 9, 9]         159,744\n",
            "     BatchNorm2d-178            [-1, 192, 9, 9]             384\n",
            "     BasicConv2d-179            [-1, 192, 9, 9]               0\n",
            "          Conv2d-180            [-1, 384, 9, 9]         663,552\n",
            "     BatchNorm2d-181            [-1, 384, 9, 9]             768\n",
            "     BasicConv2d-182            [-1, 384, 9, 9]               0\n",
            "          Conv2d-183             [-1, 48, 9, 9]          39,936\n",
            "     BatchNorm2d-184             [-1, 48, 9, 9]              96\n",
            "     BasicConv2d-185             [-1, 48, 9, 9]               0\n",
            "          Conv2d-186            [-1, 128, 9, 9]          55,296\n",
            "     BatchNorm2d-187            [-1, 128, 9, 9]             256\n",
            "     BasicConv2d-188            [-1, 128, 9, 9]               0\n",
            "       MaxPool2d-189            [-1, 832, 9, 9]               0\n",
            "          Conv2d-190            [-1, 128, 9, 9]         106,496\n",
            "     BatchNorm2d-191            [-1, 128, 9, 9]             256\n",
            "     BasicConv2d-192            [-1, 128, 9, 9]               0\n",
            "       Inception-193           [-1, 1024, 9, 9]               0\n",
            "AdaptiveAvgPool2d-194           [-1, 1024, 1, 1]               0\n",
            "         Dropout-195                 [-1, 1024]               0\n",
            "          Linear-196                    [-1, 2]           2,050\n",
            "================================================================\n",
            "Total params: 5,601,954\n",
            "Trainable params: 5,601,954\n",
            "Non-trainable params: 0\n",
            "----------------------------------------------------------------\n",
            "Input size (MB): 1.03\n",
            "Forward/backward pass size (MB): 163.37\n",
            "Params size (MB): 21.37\n",
            "Estimated Total Size (MB): 185.77\n",
            "----------------------------------------------------------------\n"
          ]
        }
      ]
    },
    {
      "cell_type": "code",
      "execution_count": null,
      "metadata": {
        "jupyter": {
          "outputs_hidden": false
        },
        "colab": {
          "base_uri": "https://localhost:8080/",
          "height": 1000
        },
        "id": "iUBPggwoh0hp",
        "outputId": "38969a27-9f69-4761-c96a-f7ff308a4ea0"
      },
      "outputs": [
        {
          "metadata": {
            "tags": null
          },
          "name": "stderr",
          "output_type": "stream",
          "text": [
            "\u001b[34m\u001b[1mwandb\u001b[0m: Agent Starting Run: e5ipdxmg with config:\n",
            "\u001b[34m\u001b[1mwandb\u001b[0m: \tlearning_rate: 0.001\n",
            "\u001b[34m\u001b[1mwandb\u001b[0m: \tnumber_of_epochs: 50\n"
          ]
        },
        {
          "data": {
            "text/html": [
              "Tracking run with wandb version 0.16.6"
            ],
            "text/plain": [
              "<IPython.core.display.HTML object>"
            ]
          },
          "metadata": {},
          "output_type": "display_data"
        },
        {
          "data": {
            "text/html": [
              "Run data is saved locally in <code>/content/wandb/run-20240415_132121-e5ipdxmg</code>"
            ],
            "text/plain": [
              "<IPython.core.display.HTML object>"
            ]
          },
          "metadata": {},
          "output_type": "display_data"
        },
        {
          "data": {
            "text/html": [
              "Syncing run <strong><a href='https://wandb.ai/ioana-baciu4/licenta/runs/e5ipdxmg' target=\"_blank\">ethereal-sweep-1</a></strong> to <a href='https://wandb.ai/ioana-baciu4/licenta' target=\"_blank\">Weights & Biases</a> (<a href='https://wandb.me/run' target=\"_blank\">docs</a>)<br/>Sweep page: <a href='https://wandb.ai/ioana-baciu4/licenta/sweeps/dwt0bkuf' target=\"_blank\">https://wandb.ai/ioana-baciu4/licenta/sweeps/dwt0bkuf</a>"
            ],
            "text/plain": [
              "<IPython.core.display.HTML object>"
            ]
          },
          "metadata": {},
          "output_type": "display_data"
        },
        {
          "data": {
            "text/html": [
              " View project at <a href='https://wandb.ai/ioana-baciu4/licenta' target=\"_blank\">https://wandb.ai/ioana-baciu4/licenta</a>"
            ],
            "text/plain": [
              "<IPython.core.display.HTML object>"
            ]
          },
          "metadata": {},
          "output_type": "display_data"
        },
        {
          "data": {
            "text/html": [
              " View sweep at <a href='https://wandb.ai/ioana-baciu4/licenta/sweeps/dwt0bkuf' target=\"_blank\">https://wandb.ai/ioana-baciu4/licenta/sweeps/dwt0bkuf</a>"
            ],
            "text/plain": [
              "<IPython.core.display.HTML object>"
            ]
          },
          "metadata": {},
          "output_type": "display_data"
        },
        {
          "data": {
            "text/html": [
              " View run at <a href='https://wandb.ai/ioana-baciu4/licenta/runs/e5ipdxmg' target=\"_blank\">https://wandb.ai/ioana-baciu4/licenta/runs/e5ipdxmg</a>"
            ],
            "text/plain": [
              "<IPython.core.display.HTML object>"
            ]
          },
          "metadata": {},
          "output_type": "display_data"
        },
        {
          "metadata": {
            "tags": null
          },
          "name": "stdout",
          "output_type": "stream",
          "text": [
            "e5ipdxmg\n",
            "=> Training epoch: 1\n"
          ]
        },
        {
          "metadata": {
            "tags": null
          },
          "name": "stderr",
          "output_type": "stream",
          "text": [
            "100%|██████████| 94/94 [2:15:48<00:00, 86.69s/it]\n"
          ]
        },
        {
          "metadata": {
            "tags": null
          },
          "name": "stdout",
          "output_type": "stream",
          "text": [
            "=> Finished training...\n",
            "=> Calculating metrics...\n"
          ]
        },
        {
          "metadata": {
            "tags": null
          },
          "name": "stderr",
          "output_type": "stream",
          "text": [
            "100%|██████████| 3322/3322 [18:05<00:00,  3.06it/s]\n"
          ]
        },
        {
          "metadata": {
            "tags": null
          },
          "name": "stdout",
          "output_type": "stream",
          "text": [
            "Accuracy: 0.5391330523780855\n",
            "Precision: 0.8391608391608392\n",
            "Recall: 0.07371007371007371\n",
            "=> Saving checkpoint\n"
          ]
        },
        {
          "data": {
            "image/png": "[encoded data removed]",
            "text/plain": [
              "<Figure size 700x500 with 2 Axes>"
            ]
          },
          "metadata": {},
          "output_type": "display_data"
        },
        {
          "metadata": {
            "tags": null
          },
          "name": "stdout",
          "output_type": "stream",
          "text": [
            "=> Training epoch: 2\n"
          ]
        },
        {
          "metadata": {
            "tags": null
          },
          "name": "stderr",
          "output_type": "stream",
          "text": [
            "100%|██████████| 94/94 [1:59:28<00:00, 76.26s/it]\n"
          ]
        },
        {
          "metadata": {
            "tags": null
          },
          "name": "stdout",
          "output_type": "stream",
          "text": [
            "=> Finished training...\n",
            "=> Calculating metrics...\n"
          ]
        },
        {
          "metadata": {
            "tags": null
          },
          "name": "stderr",
          "output_type": "stream",
          "text": [
            "100%|██████████| 3322/3322 [12:16<00:00,  4.51it/s]\n"
          ]
        },
        {
          "metadata": {
            "tags": null
          },
          "name": "stdout",
          "output_type": "stream",
          "text": [
            "Accuracy: 0.5264900662251656\n",
            "Precision: 0.5096933380331335\n",
            "Recall: 0.8882063882063882\n",
            "=> Saving checkpoint\n"
          ]
        },
        {
          "data": {
            "image/png": "[encoded data removed]",
            "text/plain": [
              "<Figure size 700x500 with 2 Axes>"
            ]
          },
          "metadata": {},
          "output_type": "display_data"
        },
        {
          "metadata": {
            "tags": null
          },
          "name": "stdout",
          "output_type": "stream",
          "text": [
            "=> Training epoch: 3\n"
          ]
        },
        {
          "metadata": {
            "tags": null
          },
          "name": "stderr",
          "output_type": "stream",
          "text": [
            " 94%|█████████▎| 88/94 [1:49:45<07:25, 74.23s/it]"
          ]
        }
      ],
      "source": [
        "wandb.agent(sweep_id, function=train_with_metrics, count=1)"
      ]
    }
  ],
  "metadata": {
    "kernelspec": {
      "display_name": "Python 3",
      "name": "python3"
    },
    "language_info": {
      "codemirror_mode": {
        "name": "ipython",
        "version": 3
      },
      "file_extension": ".py",
      "mimetype": "text/x-python",
      "name": "python",
      "nbconvert_exporter": "python",
      "pygments_lexer": "ipython3",
      "version": "3.9.7"
    },
    "colab": {
      "provenance": [],
      "machine_shape": "hm"
    }
  },
  "nbformat": 4,
  "nbformat_minor": 0
}